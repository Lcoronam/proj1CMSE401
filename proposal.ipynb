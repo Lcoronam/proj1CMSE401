{
 "cells": [
  {
   "cell_type": "markdown",
   "id": "8d230ad4",
   "metadata": {},
   "source": [
    "# Project Title\n",
    "Luis Corona"
   ]
  },
  {
   "attachments": {
    "download.png": {
     "image/png": "[encoded data removed]"
    }
   },
   "cell_type": "markdown",
   "id": "a0f61791",
   "metadata": {},
   "source": [
    "![download.png](attachment:download.png)"
   ]
  },
  {
   "cell_type": "markdown",
   "id": "861521b7",
   "metadata": {},
   "source": [
    "# Abstract\n",
    "For this projeject I will be working in the economics domain, specifically focusing on the prediction of car prices. I picked this domain because I am interested to see what car prices look like in the future as well as finding out what factors increase the price of a car. I am interested in seeing what specifically will make a car's price go up like the car's engine size, color, brand, model, mileage, and more. The motivation for this project is to build a machine learning model that can accurately predict car prices using various key features to provide valuable information to consumers and dealers about the car market. For the project, I will be using Scikit learn to implement a linear regression model. I will also be using PyTorch to parallelize the computations to speed up the model. My goal is to benchmark training and prediction times between non-parallelized and parallelized code. The parallelized code should work significantly faster."
   ]
  },
  {
   "cell_type": "markdown",
   "id": "c5cbc48f",
   "metadata": {},
   "source": [
    "# Schedule\n",
    "Sunday February 5 - Project Proposal Milestone Due\n",
    "\n",
    "Week of February - Software extract + Installation\n",
    "\n",
    "Week of February - Running Example Codes\n",
    "\n",
    "Week of February - Submission script + References\n",
    "\n",
    "Sunday February 26 - Project Part 1 Due\n",
    "\n",
    "Week of March - Abstract\n",
    "\n",
    "Week of March - Abstract + Methodology\n",
    "\n",
    "Week of March - Abstract + Methodology\n",
    "\n",
    "Week of March - Methodology + Timing Results\n",
    "\n",
    "Week of April - Timing Results\n",
    "\n",
    "Week of April - Concluding Discussion + Future Work\n",
    "\n",
    "April 15 - Final Project due\n",
    "\n"
   ]
  },
  {
   "cell_type": "markdown",
   "id": "bdc3d647",
   "metadata": {},
   "source": [
    "# Part 1 Software Exploration\n",
    "I will be using both PyTorch and Scikit-learn to make car price predictions. To start i will implement a linear regression model using Scikit-learn. Then I will use PyTorch to parallelize training and predictions, allowing comparisons for performance speed. My goal is to have a working model with really fast computation.\\\n",
    "https://sebastianraschka.com/blog/2022/ml-pytorch-book.html \\\n",
    "https://www.kaggle.com/datasets/asinow/car-price-dataset/data"
   ]
  },
  {
   "cell_type": "markdown",
   "id": "e6e7ba82",
   "metadata": {},
   "source": [
    "# Part 2 Benchmark and Optimization\n",
    "I will benchmark a linear regression model using Scikit-learn for regular computing and PyTorch for parallelization. I'll compare the times for both, focusing on trying to improve the computational speed of the parallelized code. I want the parallelized code to compute at least three times as fast, if not faster."
   ]
  },
  {
   "cell_type": "code",
   "execution_count": null,
   "id": "9551d5d0",
   "metadata": {},
   "outputs": [],
   "source": []
  }
 ],
 "metadata": {
  "kernelspec": {
   "display_name": "Python 3 (ipykernel)",
   "language": "python",
   "name": "python3"
  },
  "language_info": {
   "codemirror_mode": {
    "name": "ipython",
    "version": 3
   },
   "file_extension": ".py",
   "mimetype": "text/x-python",
   "name": "python",
   "nbconvert_exporter": "python",
   "pygments_lexer": "ipython3",
   "version": "3.10.9"
  }
 },
 "nbformat": 4,
 "nbformat_minor": 5
}
